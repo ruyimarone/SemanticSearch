{
 "cells": [
  {
   "cell_type": "markdown",
   "metadata": {
    "colab_type": "text",
    "id": "gNSeWzblBaab"
   },
   "source": [
    "# HackGTeeny AI Workshop\n",
    "\n",
    "This is a Colaboratory notebook. Notebooks like this are often used in data science and machine learning because they provide a unified environment for code, text, and charts. \n",
    "\n",
    "\n",
    "**If you want to edit or interact with this notebook, use the `playground` button!**\n",
    "\n",
    "\n",
    "---\n",
    "\n",
    "# Topics\n",
    "\n",
    "- Natural Language Processing (NLP) on old HackGT 4 submissions\n",
    "\n",
    "\n",
    "## Setup\n",
    "\n",
    "Cells can contain code or text. You can run a code by clicking the run button to the left or by pressing shift-enter.\n",
    "\n",
    "Try running the cell below to make sure everything is working (make sure you've entered playground mode)"
   ]
  },
  {
   "cell_type": "code",
   "execution_count": 358,
   "metadata": {
    "colab": {
     "base_uri": "https://localhost:8080/",
     "height": 34
    },
    "colab_type": "code",
    "id": "Wj9ff_27P--X",
    "outputId": "5d8b3408-2a12-4ab7-db66-8293d185c366"
   },
   "outputs": [
    {
     "name": "stdout",
     "output_type": "stream",
     "text": [
      "Hello world!\n"
     ]
    }
   ],
   "source": [
    "print(\"Hello world!\")"
   ]
  },
  {
   "cell_type": "markdown",
   "metadata": {
    "colab_type": "text",
    "id": "mI17SVcqBEqi"
   },
   "source": [
    "Colaboratory has a lot of useful libraries installed automatically. Below are some standard imports that you'll see in nearly every single ML project."
   ]
  },
  {
   "cell_type": "code",
   "execution_count": 359,
   "metadata": {
    "colab": {},
    "colab_type": "code",
    "id": "0cfafGo0PZoc"
   },
   "outputs": [],
   "source": [
    "import numpy as np\n",
    "import pandas as pd\n",
    "import matplotlib.pyplot as plt"
   ]
  },
  {
   "cell_type": "markdown",
   "metadata": {
    "colab_type": "text",
    "id": "ZkiB3gvlCqQf"
   },
   "source": [
    "## 1.0: Pandas!\n",
    "![](https://upload.wikimedia.org/wikipedia/commons/thumb/0/0f/Grosser_Panda.JPG/218px-Grosser_Panda.JPG)\n",
    "  \n",
    "\n",
    "---\n",
    "\n",
    "\n",
    "\n",
    "\n",
    "- `pandas` is a staple library for machine learning and data science \n",
    "- Think of it as a **very** fast csv wrapper\n",
    "  - sql style operations\n",
    "  - charts\n",
    "  - makes life easier by replacing lots of for loops\n",
    "\n",
    "\n",
    "The main abstraction is a `DataFrame`, often as a variable called `df`.  \n",
    "  \n",
    "  When I say dataframe, think table.\n",
    "  \n",
    "  Most of the operations are pretty self explanatory. \n",
    "  \n",
    "  Below, we'll read a CSV file that I've prepared containing submissions from HackGT last year. \n",
    "  "
   ]
  },
  {
   "cell_type": "code",
   "execution_count": 360,
   "metadata": {
    "colab": {},
    "colab_type": "code",
    "id": "P0EL70hSQ9q7"
   },
   "outputs": [],
   "source": [
    "# this can also be a local (to the cloud instance) file!\n",
    "location = 'https://gist.githubusercontent.com/ruyimarone/04d356038138f12df205da9934e797f1/raw/e3bb9212eae46e10f85b765f5a3ab95e0428c3ee/data.csv'\n",
    "df = pd.read_csv(location)\n",
    "# this drops any rows that have NaN values or other missing entries - we won't worry about them\n",
    "df = df.dropna()\n",
    "#this drops anything that is too short\n",
    "df = df[df.description.str.len() > 100]"
   ]
  },
  {
   "cell_type": "markdown",
   "metadata": {
    "colab_type": "text",
    "id": "OghJx6usELH5"
   },
   "source": [
    "We can check the contents of a `DataFrame` by inspecting the first few rows:"
   ]
  },
  {
   "cell_type": "code",
   "execution_count": 361,
   "metadata": {
    "colab": {
     "base_uri": "https://localhost:8080/",
     "height": 206
    },
    "colab_type": "code",
    "id": "SspRKudMFJr2",
    "outputId": "8778a658-396c-4885-8448-166b6b52028b"
   },
   "outputs": [
    {
     "data": {
      "text/html": [
       "<div>\n",
       "<style scoped>\n",
       "    .dataframe tbody tr th:only-of-type {\n",
       "        vertical-align: middle;\n",
       "    }\n",
       "\n",
       "    .dataframe tbody tr th {\n",
       "        vertical-align: top;\n",
       "    }\n",
       "\n",
       "    .dataframe thead th {\n",
       "        text-align: right;\n",
       "    }\n",
       "</style>\n",
       "<table border=\"1\" class=\"dataframe\">\n",
       "  <thead>\n",
       "    <tr style=\"text-align: right;\">\n",
       "      <th></th>\n",
       "      <th>submission</th>\n",
       "      <th>description</th>\n",
       "      <th>tags</th>\n",
       "    </tr>\n",
       "  </thead>\n",
       "  <tbody>\n",
       "    <tr>\n",
       "      <th>0</th>\n",
       "      <td>Cinema4All</td>\n",
       "      <td>Inspiration\\n\\nWhen exploring different proble...</td>\n",
       "      <td>azure, react, heroku, css, javascript</td>\n",
       "    </tr>\n",
       "    <tr>\n",
       "      <th>1</th>\n",
       "      <td>helpr</td>\n",
       "      <td>Inspiration\\n\\nWhen considering the types of u...</td>\n",
       "      <td>love, caffeine, android-studio, arduino, iot, ...</td>\n",
       "    </tr>\n",
       "    <tr>\n",
       "      <th>2</th>\n",
       "      <td>Book Match: Vocabing</td>\n",
       "      <td>Inspiration\\n\\nGRE Test Prep\\n\\nWhat it does\\n...</td>\n",
       "      <td>python, mysql, azure, nltk, natural-language-p...</td>\n",
       "    </tr>\n",
       "    <tr>\n",
       "      <th>3</th>\n",
       "      <td>Parking sensor</td>\n",
       "      <td>Inspiration\\n\\nOne day, while driving, Sarah b...</td>\n",
       "      <td>arduino, pwm</td>\n",
       "    </tr>\n",
       "    <tr>\n",
       "      <th>4</th>\n",
       "      <td>HackGTOne</td>\n",
       "      <td>Inspiration\\n\\nWe wanted to improve the custom...</td>\n",
       "      <td>java, android</td>\n",
       "    </tr>\n",
       "  </tbody>\n",
       "</table>\n",
       "</div>"
      ],
      "text/plain": [
       "             submission                                        description  \\\n",
       "0            Cinema4All  Inspiration\\n\\nWhen exploring different proble...   \n",
       "1                 helpr  Inspiration\\n\\nWhen considering the types of u...   \n",
       "2  Book Match: Vocabing  Inspiration\\n\\nGRE Test Prep\\n\\nWhat it does\\n...   \n",
       "3        Parking sensor  Inspiration\\n\\nOne day, while driving, Sarah b...   \n",
       "4             HackGTOne  Inspiration\\n\\nWe wanted to improve the custom...   \n",
       "\n",
       "                                                tags  \n",
       "0              azure, react, heroku, css, javascript  \n",
       "1  love, caffeine, android-studio, arduino, iot, ...  \n",
       "2  python, mysql, azure, nltk, natural-language-p...  \n",
       "3                                       arduino, pwm  \n",
       "4                                      java, android  "
      ]
     },
     "execution_count": 361,
     "metadata": {},
     "output_type": "execute_result"
    }
   ],
   "source": [
    "df.head()"
   ]
  },
  {
   "cell_type": "markdown",
   "metadata": {
    "colab_type": "text",
    "id": "JZlwibTtsn9q"
   },
   "source": [
    "We can also do advanced selections. For example, if we wanted every project that was tagged on devpost with python:"
   ]
  },
  {
   "cell_type": "code",
   "execution_count": 362,
   "metadata": {
    "colab": {
     "base_uri": "https://localhost:8080/",
     "height": 206
    },
    "colab_type": "code",
    "id": "iAXpDw57sm40",
    "outputId": "debf3ff4-16af-4820-a016-20ae92ab8bca"
   },
   "outputs": [
    {
     "data": {
      "text/html": [
       "<div>\n",
       "<style scoped>\n",
       "    .dataframe tbody tr th:only-of-type {\n",
       "        vertical-align: middle;\n",
       "    }\n",
       "\n",
       "    .dataframe tbody tr th {\n",
       "        vertical-align: top;\n",
       "    }\n",
       "\n",
       "    .dataframe thead th {\n",
       "        text-align: right;\n",
       "    }\n",
       "</style>\n",
       "<table border=\"1\" class=\"dataframe\">\n",
       "  <thead>\n",
       "    <tr style=\"text-align: right;\">\n",
       "      <th></th>\n",
       "      <th>submission</th>\n",
       "      <th>description</th>\n",
       "      <th>tags</th>\n",
       "    </tr>\n",
       "  </thead>\n",
       "  <tbody>\n",
       "    <tr>\n",
       "      <th>7</th>\n",
       "      <td>Airline Delays Visualization</td>\n",
       "      <td>Inspiration\\n\\nI love airplanes and big data i...</td>\n",
       "      <td>pandas, numpy, python, jupyter-notebook</td>\n",
       "    </tr>\n",
       "    <tr>\n",
       "      <th>92</th>\n",
       "      <td>Huber</td>\n",
       "      <td>Huber\\n\\nHuber is new. It's different. All you...</td>\n",
       "      <td>typescript, jupyter-notebook, python, javascri...</td>\n",
       "    </tr>\n",
       "    <tr>\n",
       "      <th>135</th>\n",
       "      <td>InvestFolio</td>\n",
       "      <td>Inspiration\\n\\nEasy to use. Free. \\n\\nWhat it ...</td>\n",
       "      <td>php, google-cloud, scikit-learn, python, mysql...</td>\n",
       "    </tr>\n",
       "  </tbody>\n",
       "</table>\n",
       "</div>"
      ],
      "text/plain": [
       "                       submission  \\\n",
       "7    Airline Delays Visualization   \n",
       "92                          Huber   \n",
       "135                   InvestFolio   \n",
       "\n",
       "                                           description  \\\n",
       "7    Inspiration\\n\\nI love airplanes and big data i...   \n",
       "92   Huber\\n\\nHuber is new. It's different. All you...   \n",
       "135  Inspiration\\n\\nEasy to use. Free. \\n\\nWhat it ...   \n",
       "\n",
       "                                                  tags  \n",
       "7              pandas, numpy, python, jupyter-notebook  \n",
       "92   typescript, jupyter-notebook, python, javascri...  \n",
       "135  php, google-cloud, scikit-learn, python, mysql...  "
      ]
     },
     "execution_count": 362,
     "metadata": {},
     "output_type": "execute_result"
    }
   ],
   "source": [
    "df[df.tags.str.contains('python') & df.tags.str.contains('pandas')].head()"
   ]
  },
  {
   "cell_type": "markdown",
   "metadata": {
    "colab_type": "text",
    "id": "nSLQrshPvPw8"
   },
   "source": [
    "Let's compare some libraries and languages:"
   ]
  },
  {
   "cell_type": "code",
   "execution_count": 363,
   "metadata": {
    "colab": {
     "base_uri": "https://localhost:8080/",
     "height": 34
    },
    "colab_type": "code",
    "id": "gykoxVfYvO0y",
    "outputId": "818c8f44-51c3-4741-ce95-a956b5612ec3"
   },
   "outputs": [
    {
     "data": {
      "text/plain": [
       "66"
      ]
     },
     "execution_count": 363,
     "metadata": {},
     "output_type": "execute_result"
    }
   ],
   "source": [
    "df[df['tags'].str.contains('python')].tags.count()"
   ]
  },
  {
   "cell_type": "code",
   "execution_count": 364,
   "metadata": {
    "colab": {
     "base_uri": "https://localhost:8080/",
     "height": 34
    },
    "colab_type": "code",
    "id": "e8pVKr2dw6ir",
    "outputId": "9748a777-d862-43d9-d683-d7ea23efba9e"
   },
   "outputs": [
    {
     "data": {
      "text/plain": [
       "30"
      ]
     },
     "execution_count": 364,
     "metadata": {},
     "output_type": "execute_result"
    }
   ],
   "source": [
    "df[df['tags'].str.contains('node.js')].tags.count()"
   ]
  },
  {
   "cell_type": "code",
   "execution_count": 365,
   "metadata": {
    "colab": {},
    "colab_type": "code",
    "id": "0WVkuVd7xMkq"
   },
   "outputs": [],
   "source": [
    "#TOOD should thie be here?\n",
    "\n",
    "############\n",
    "#Challenge!#\n",
    "############\n",
    "\n",
    "\n",
    "#if you are bored, use this cell to create a histogram/bar chart of tags\n",
    "#use pandas and matplotlib as concisely and clearly as possible"
   ]
  },
  {
   "cell_type": "markdown",
   "metadata": {
    "colab_type": "text",
    "id": "1qku9CLJtx43"
   },
   "source": [
    "## 2.0 NLP: Clustering Words\n",
    "\n",
    "\n",
    "---\n",
    "\n",
    "Back to the slides!\n",
    "\n",
    "\n",
    "\n"
   ]
  },
  {
   "cell_type": "markdown",
   "metadata": {
    "colab_type": "text",
    "id": "rNWNeA_7Kh78"
   },
   "source": [
    "### 2.1 Getting Terms and Documents\n",
    "\n",
    "Imports and boilerplate..."
   ]
  },
  {
   "cell_type": "code",
   "execution_count": 366,
   "metadata": {
    "colab": {},
    "colab_type": "code",
    "id": "wJYe_vhU1EFC"
   },
   "outputs": [],
   "source": [
    "#also super common \n",
    "import nltk #natural language toolkit\n",
    "import sklearn #python library for classical machine learning "
   ]
  },
  {
   "cell_type": "markdown",
   "metadata": {
    "colab_type": "text",
    "id": "FuoIfxEuLnyJ"
   },
   "source": [
    "`CountVectorizer` : generates bag of word vectors"
   ]
  },
  {
   "cell_type": "code",
   "execution_count": 367,
   "metadata": {
    "colab": {
     "base_uri": "https://localhost:8080/",
     "height": 86
    },
    "colab_type": "code",
    "id": "0DI2CUTqLnAr",
    "outputId": "0f798388-bdb1-4f61-b3a7-ef2d4eed263b"
   },
   "outputs": [
    {
     "name": "stdout",
     "output_type": "stream",
     "text": [
      "{'this': 4, 'is': 1, 'document': 0, 'second': 2, 'third': 3}\n",
      "[[1 1 0 0 1]\n",
      " [1 1 1 0 1]\n",
      " [3 0 0 1 0]]\n"
     ]
    }
   ],
   "source": [
    "cv = sklearn.feature_extraction.text.CountVectorizer()\n",
    "m = cv.fit_transform(['this is a document', 'this is a second document', 'third document document document']).todense()\n",
    "print(cv.vocabulary_)\n",
    "print(m)"
   ]
  },
  {
   "cell_type": "markdown",
   "metadata": {
    "colab_type": "text",
    "id": "Q7aLPxwFMvb8"
   },
   "source": [
    "Now we can get a term document matrix from the submissions dataframe. \n"
   ]
  },
  {
   "cell_type": "code",
   "execution_count": 368,
   "metadata": {
    "colab": {},
    "colab_type": "code",
    "id": "i1DT0UUj1LZM"
   },
   "outputs": [],
   "source": [
    "count_vectorizer = sklearn.feature_extraction.text.CountVectorizer()\n",
    "td_count_matrix = count_vectorizer.fit_transform(df['tags'])"
   ]
  },
  {
   "cell_type": "markdown",
   "metadata": {
    "colab_type": "text",
    "id": "HFP9H6RUNRBR"
   },
   "source": [
    "Note that the count vectorizer handles tokenization for us. Tokenization broadly means turning a sentence into word or word like chunks. Easiest way - `sentence.split()` \n",
    "\n",
    "Let's see what the matrix looks like:"
   ]
  },
  {
   "cell_type": "code",
   "execution_count": 369,
   "metadata": {
    "colab": {
     "base_uri": "https://localhost:8080/",
     "height": 34
    },
    "colab_type": "code",
    "id": "LDySYshW1u-h",
    "outputId": "d2d5d2bb-b9de-45d7-e820-088a00822879"
   },
   "outputs": [
    {
     "data": {
      "text/plain": [
       "(175, 305)"
      ]
     },
     "execution_count": 369,
     "metadata": {},
     "output_type": "execute_result"
    }
   ],
   "source": [
    "td_count_matrix.shape"
   ]
  },
  {
   "cell_type": "markdown",
   "metadata": {
    "colab_type": "text",
    "id": "QhJVnryfNXkC"
   },
   "source": [
    "So we have 177 documents and 305 unique terms. \n",
    "\n",
    "Here's a snippet of the vocab, to convince you that the tokenization worked:"
   ]
  },
  {
   "cell_type": "code",
   "execution_count": 370,
   "metadata": {
    "colab": {
     "base_uri": "https://localhost:8080/",
     "height": 191
    },
    "colab_type": "code",
    "id": "B6HHVamGNoGP",
    "outputId": "1aad8953-e183-4ee4-f9a3-b11f8faa9fb1"
   },
   "outputs": [
    {
     "data": {
      "text/plain": [
       "[('azure', 32),\n",
       " ('react', 234),\n",
       " ('heroku', 130),\n",
       " ('css', 69),\n",
       " ('javascript', 147),\n",
       " ('love', 168),\n",
       " ('caffeine', 48),\n",
       " ('android', 14),\n",
       " ('studio', 269),\n",
       " ('arduino', 23)]"
      ]
     },
     "execution_count": 370,
     "metadata": {},
     "output_type": "execute_result"
    }
   ],
   "source": [
    "list(count_vectorizer.vocabulary_.items())[:10]"
   ]
  },
  {
   "cell_type": "markdown",
   "metadata": {
    "colab_type": "text",
    "id": "0J549PwqQhuZ"
   },
   "source": [
    "### 2.2 Clustering Tags"
   ]
  },
  {
   "cell_type": "code",
   "execution_count": 371,
   "metadata": {
    "colab": {
     "base_uri": "https://localhost:8080/",
     "height": 52
    },
    "colab_type": "code",
    "id": "H-4EGyK01ynz",
    "outputId": "a891166e-b626-4f47-f9c2-6183a7f05134"
   },
   "outputs": [
    {
     "data": {
      "text/plain": [
       "TruncatedSVD(algorithm='randomized', n_components=10, n_iter=5,\n",
       "       random_state=None, tol=0.0)"
      ]
     },
     "execution_count": 371,
     "metadata": {},
     "output_type": "execute_result"
    }
   ],
   "source": [
    "from sklearn.decomposition import TruncatedSVD as SVD\n",
    "svd = SVD(10)\n",
    "svd.fit(td_count_matrix)"
   ]
  },
  {
   "cell_type": "markdown",
   "metadata": {
    "colab_type": "text",
    "id": "rvF5cKNESauc"
   },
   "source": [
    "`sklearn` provides us with very nice abstractions, calculating this complicated matrix decomposition is that simple. \n",
    "\n",
    "There are lots of things we can do with this matrix (like search), but for now let's examine the similar words:"
   ]
  },
  {
   "cell_type": "code",
   "execution_count": 372,
   "metadata": {},
   "outputs": [],
   "source": [
    "from IPython.core.display import display, HTML\n",
    "def tabulate(data):\n",
    "    display_df = pd.DataFrame(data)\n",
    "    display(HTML(display_df.to_html(index=False, header=True)))"
   ]
  },
  {
   "cell_type": "code",
   "execution_count": 373,
   "metadata": {
    "colab": {
     "base_uri": "https://localhost:8080/",
     "height": 211
    },
    "colab_type": "code",
    "id": "Z4HwSrMzS_LN",
    "outputId": "db262d20-7f7d-43de-d68e-cd22aec9b8fb"
   },
   "outputs": [
    {
     "data": {
      "text/html": [
       "<table border=\"1\" class=\"dataframe\">\n",
       "  <thead>\n",
       "    <tr style=\"text-align: right;\">\n",
       "      <th>0</th>\n",
       "      <th>1</th>\n",
       "      <th>2</th>\n",
       "      <th>3</th>\n",
       "      <th>4</th>\n",
       "      <th>5</th>\n",
       "      <th>6</th>\n",
       "      <th>7</th>\n",
       "      <th>8</th>\n",
       "      <th>9</th>\n",
       "    </tr>\n",
       "  </thead>\n",
       "  <tbody>\n",
       "    <tr>\n",
       "      <td>0.42948</td>\n",
       "      <td>0.405186</td>\n",
       "      <td>0.292172</td>\n",
       "      <td>0.239077</td>\n",
       "      <td>0.233803</td>\n",
       "      <td>0.210985</td>\n",
       "      <td>0.202825</td>\n",
       "      <td>0.194406</td>\n",
       "      <td>0.187247</td>\n",
       "      <td>0.171321</td>\n",
       "    </tr>\n",
       "    <tr>\n",
       "      <td>js</td>\n",
       "      <td>javascript</td>\n",
       "      <td>python</td>\n",
       "      <td>api</td>\n",
       "      <td>node</td>\n",
       "      <td>html</td>\n",
       "      <td>css</td>\n",
       "      <td>android</td>\n",
       "      <td>azure</td>\n",
       "      <td>html5</td>\n",
       "    </tr>\n",
       "    <tr>\n",
       "      <td>0.569338</td>\n",
       "      <td>0.305757</td>\n",
       "      <td>0.286337</td>\n",
       "      <td>0.212996</td>\n",
       "      <td>0.20583</td>\n",
       "      <td>0.195473</td>\n",
       "      <td>0.156635</td>\n",
       "      <td>0.10498</td>\n",
       "      <td>0.101562</td>\n",
       "      <td>0.091893</td>\n",
       "    </tr>\n",
       "    <tr>\n",
       "      <td>android</td>\n",
       "      <td>java</td>\n",
       "      <td>studio</td>\n",
       "      <td>google</td>\n",
       "      <td>api</td>\n",
       "      <td>firebase</td>\n",
       "      <td>maps</td>\n",
       "      <td>aws</td>\n",
       "      <td>microsoft</td>\n",
       "      <td>xml</td>\n",
       "    </tr>\n",
       "    <tr>\n",
       "      <td>0.531913</td>\n",
       "      <td>0.330386</td>\n",
       "      <td>0.272866</td>\n",
       "      <td>0.227208</td>\n",
       "      <td>0.144581</td>\n",
       "      <td>0.128783</td>\n",
       "      <td>0.106199</td>\n",
       "      <td>0.106149</td>\n",
       "      <td>0.0989417</td>\n",
       "      <td>0.0885997</td>\n",
       "    </tr>\n",
       "    <tr>\n",
       "      <td>api</td>\n",
       "      <td>bing</td>\n",
       "      <td>microsoft</td>\n",
       "      <td>azure</td>\n",
       "      <td>cognitive</td>\n",
       "      <td>search</td>\n",
       "      <td>ncr</td>\n",
       "      <td>maps</td>\n",
       "      <td>html5</td>\n",
       "      <td>css3</td>\n",
       "    </tr>\n",
       "    <tr>\n",
       "      <td>0.505707</td>\n",
       "      <td>0.303109</td>\n",
       "      <td>0.113103</td>\n",
       "      <td>0.106589</td>\n",
       "      <td>0.102589</td>\n",
       "      <td>0.102339</td>\n",
       "      <td>0.0768825</td>\n",
       "      <td>0.0764938</td>\n",
       "      <td>0.0702382</td>\n",
       "      <td>0.0597419</td>\n",
       "    </tr>\n",
       "    <tr>\n",
       "      <td>js</td>\n",
       "      <td>node</td>\n",
       "      <td>amazon</td>\n",
       "      <td>express</td>\n",
       "      <td>bing</td>\n",
       "      <td>services</td>\n",
       "      <td>alexa</td>\n",
       "      <td>maps</td>\n",
       "      <td>api</td>\n",
       "      <td>mongodb</td>\n",
       "    </tr>\n",
       "    <tr>\n",
       "      <td>0.524476</td>\n",
       "      <td>0.255974</td>\n",
       "      <td>0.245116</td>\n",
       "      <td>0.188623</td>\n",
       "      <td>0.108913</td>\n",
       "      <td>0.105491</td>\n",
       "      <td>0.09476</td>\n",
       "      <td>0.0929594</td>\n",
       "      <td>0.0641392</td>\n",
       "      <td>0.06366</td>\n",
       "    </tr>\n",
       "    <tr>\n",
       "      <td>python</td>\n",
       "      <td>flask</td>\n",
       "      <td>js</td>\n",
       "      <td>amazon</td>\n",
       "      <td>d3</td>\n",
       "      <td>ncr</td>\n",
       "      <td>unity</td>\n",
       "      <td>web</td>\n",
       "      <td>azure</td>\n",
       "      <td>machine</td>\n",
       "    </tr>\n",
       "    <tr>\n",
       "      <td>0.482179</td>\n",
       "      <td>0.380382</td>\n",
       "      <td>0.336395</td>\n",
       "      <td>0.244921</td>\n",
       "      <td>0.160788</td>\n",
       "      <td>0.145076</td>\n",
       "      <td>0.141986</td>\n",
       "      <td>0.11766</td>\n",
       "      <td>0.102865</td>\n",
       "      <td>0.0921891</td>\n",
       "    </tr>\n",
       "    <tr>\n",
       "      <td>amazon</td>\n",
       "      <td>services</td>\n",
       "      <td>web</td>\n",
       "      <td>html</td>\n",
       "      <td>firebase</td>\n",
       "      <td>aws</td>\n",
       "      <td>css</td>\n",
       "      <td>api</td>\n",
       "      <td>alexa</td>\n",
       "      <td>bing</td>\n",
       "    </tr>\n",
       "    <tr>\n",
       "      <td>0.497487</td>\n",
       "      <td>0.420311</td>\n",
       "      <td>0.213359</td>\n",
       "      <td>0.18408</td>\n",
       "      <td>0.162695</td>\n",
       "      <td>0.15378</td>\n",
       "      <td>0.0867884</td>\n",
       "      <td>0.0837394</td>\n",
       "      <td>0.0813406</td>\n",
       "      <td>0.0782557</td>\n",
       "    </tr>\n",
       "    <tr>\n",
       "      <td>html5</td>\n",
       "      <td>css3</td>\n",
       "      <td>amazon</td>\n",
       "      <td>services</td>\n",
       "      <td>web</td>\n",
       "      <td>javascript</td>\n",
       "      <td>general</td>\n",
       "      <td>maps</td>\n",
       "      <td>php</td>\n",
       "      <td>d3</td>\n",
       "    </tr>\n",
       "    <tr>\n",
       "      <td>0.491405</td>\n",
       "      <td>0.239237</td>\n",
       "      <td>0.180847</td>\n",
       "      <td>0.180847</td>\n",
       "      <td>0.166862</td>\n",
       "      <td>0.152602</td>\n",
       "      <td>0.114333</td>\n",
       "      <td>0.106325</td>\n",
       "      <td>0.106325</td>\n",
       "      <td>0.100414</td>\n",
       "    </tr>\n",
       "    <tr>\n",
       "      <td>google</td>\n",
       "      <td>maps</td>\n",
       "      <td>machine</td>\n",
       "      <td>learning</td>\n",
       "      <td>firebase</td>\n",
       "      <td>on</td>\n",
       "      <td>processing</td>\n",
       "      <td>natural</td>\n",
       "      <td>language</td>\n",
       "      <td>js</td>\n",
       "    </tr>\n",
       "    <tr>\n",
       "      <td>0.604402</td>\n",
       "      <td>0.276022</td>\n",
       "      <td>0.268059</td>\n",
       "      <td>0.181252</td>\n",
       "      <td>0.156979</td>\n",
       "      <td>0.145475</td>\n",
       "      <td>0.127632</td>\n",
       "      <td>0.119234</td>\n",
       "      <td>0.0916352</td>\n",
       "      <td>0.0916352</td>\n",
       "    </tr>\n",
       "    <tr>\n",
       "      <td>firebase</td>\n",
       "      <td>aws</td>\n",
       "      <td>ncr</td>\n",
       "      <td>html5</td>\n",
       "      <td>react</td>\n",
       "      <td>azure</td>\n",
       "      <td>css</td>\n",
       "      <td>typescript</td>\n",
       "      <td>wifi</td>\n",
       "      <td>ultrasonic</td>\n",
       "    </tr>\n",
       "    <tr>\n",
       "      <td>0.627991</td>\n",
       "      <td>0.198065</td>\n",
       "      <td>0.193301</td>\n",
       "      <td>0.193301</td>\n",
       "      <td>0.177788</td>\n",
       "      <td>0.139312</td>\n",
       "      <td>0.125798</td>\n",
       "      <td>0.120601</td>\n",
       "      <td>0.0982377</td>\n",
       "      <td>0.0958407</td>\n",
       "    </tr>\n",
       "    <tr>\n",
       "      <td>azure</td>\n",
       "      <td>processing</td>\n",
       "      <td>natural</td>\n",
       "      <td>language</td>\n",
       "      <td>google</td>\n",
       "      <td>on</td>\n",
       "      <td>actions</td>\n",
       "      <td>node</td>\n",
       "      <td>framework</td>\n",
       "      <td>microsoft</td>\n",
       "    </tr>\n",
       "  </tbody>\n",
       "</table>"
      ],
      "text/plain": [
       "<IPython.core.display.HTML object>"
      ]
     },
     "metadata": {},
     "output_type": "display_data"
    }
   ],
   "source": [
    "data = []\n",
    "for i in range(len(svd.components_)):\n",
    "    scores = []\n",
    "    words = []\n",
    "    topk = sorted(zip(svd.components_[i], count_vectorizer.get_feature_names()), reverse=True)[:10]\n",
    "    scores, words = zip(*topk)\n",
    "    data.append(scores)\n",
    "    data.append(words)\n",
    "tabulate(data)\n",
    "    #   print(' + '.join('{:.3f}\n",
    "#     for c, word in topk:\n",
    "#         sco"
   ]
  },
  {
   "cell_type": "markdown",
   "metadata": {
    "colab_type": "text",
    "id": "Z5t2EU07UAob"
   },
   "source": [
    "- These reduced features are linear combinations of the old ones\n",
    "  - we could call the first one a webdev-ish dimension\n",
    "  - there's also an ML/NLP dimension <3\n",
    "- Not always interpretable\n",
    "- SVD doesn't care about broader language - it only cares about co occurrences\n",
    "\n",
    "Let's look at the actual matrix and see if it tells us anything useful:\n"
   ]
  },
  {
   "cell_type": "code",
   "execution_count": 374,
   "metadata": {},
   "outputs": [],
   "source": [
    "#get the 50 most common tags\n",
    "from collections import Counter\n",
    "tag_counts = Counter()\n",
    "for tags in df.tags.values:\n",
    "    tag_counts.update((t for t in tags.split(', ') if t in count_vectorizer.vocabulary_))"
   ]
  },
  {
   "cell_type": "code",
   "execution_count": 375,
   "metadata": {},
   "outputs": [
    {
     "data": {
      "image/png": "[encoded data removed]",
      "text/plain": [
       "<Figure size 720x720 with 1 Axes>"
      ]
     },
     "metadata": {},
     "output_type": "display_data"
    }
   ],
   "source": [
    "N = 30\n",
    "ixs_of_interest = []\n",
    "for tag, _ in tag_counts.most_common(N):\n",
    "    ixs_of_interest.append(count_vectorizer.vocabulary_[tag])\n",
    "mat = svd.components_[:, ixs_of_interest]\n",
    "fig, ax = plt.subplots(figsize=(10, 10))\n",
    "ax.imshow(mat, aspect='auto', cmap='bwr')\n",
    "ax.set_xticks(range(N))\n",
    "ax.set_xticklabels([t for t, _ in tag_counts.most_common(N)], rotation=60)\n",
    "ax.xaxis.set_ticks_position('none')"
   ]
  },
  {
   "cell_type": "markdown",
   "metadata": {
    "colab_type": "text",
    "id": "gxnGqwd7VW17"
   },
   "source": [
    "### 2.3 Clustering Documents\n",
    "\n",
    "I'll repeat the experiment, using the full `descriptions` instead of just the `tags` columns. "
   ]
  },
  {
   "cell_type": "code",
   "execution_count": 376,
   "metadata": {
    "colab": {
     "base_uri": "https://localhost:8080/",
     "height": 191
    },
    "colab_type": "code",
    "id": "HBKe5hhsT_2t",
    "outputId": "9ddae888-e353-467d-af7b-13d495851c6a"
   },
   "outputs": [
    {
     "data": {
      "text/html": [
       "<table border=\"1\" class=\"dataframe\">\n",
       "  <thead>\n",
       "    <tr style=\"text-align: right;\">\n",
       "      <th>0</th>\n",
       "      <th>1</th>\n",
       "      <th>2</th>\n",
       "      <th>3</th>\n",
       "      <th>4</th>\n",
       "      <th>5</th>\n",
       "      <th>6</th>\n",
       "      <th>7</th>\n",
       "      <th>8</th>\n",
       "      <th>9</th>\n",
       "    </tr>\n",
       "  </thead>\n",
       "  <tbody>\n",
       "    <tr>\n",
       "      <td>the</td>\n",
       "      <td>to</td>\n",
       "      <td>and</td>\n",
       "      <td>we</td>\n",
       "      <td>of</td>\n",
       "      <td>in</td>\n",
       "      <td>that</td>\n",
       "      <td>for</td>\n",
       "      <td>it</td>\n",
       "      <td>with</td>\n",
       "    </tr>\n",
       "    <tr>\n",
       "      <td>we</td>\n",
       "      <td>to</td>\n",
       "      <td>and</td>\n",
       "      <td>our</td>\n",
       "      <td>it</td>\n",
       "      <td>what</td>\n",
       "      <td>how</td>\n",
       "      <td>as</td>\n",
       "      <td>learned</td>\n",
       "      <td>that</td>\n",
       "    </tr>\n",
       "    <tr>\n",
       "      <td>and</td>\n",
       "      <td>to</td>\n",
       "      <td>is</td>\n",
       "      <td>you</td>\n",
       "      <td>my</td>\n",
       "      <td>it</td>\n",
       "      <td>app</td>\n",
       "      <td>this</td>\n",
       "      <td>or</td>\n",
       "      <td>what</td>\n",
       "    </tr>\n",
       "    <tr>\n",
       "      <td>to</td>\n",
       "      <td>ingredients</td>\n",
       "      <td>app</td>\n",
       "      <td>that</td>\n",
       "      <td>user</td>\n",
       "      <td>recipes</td>\n",
       "      <td>as</td>\n",
       "      <td>model</td>\n",
       "      <td>recipe</td>\n",
       "      <td>users</td>\n",
       "    </tr>\n",
       "    <tr>\n",
       "      <td>of</td>\n",
       "      <td>our</td>\n",
       "      <td>and</td>\n",
       "      <td>model</td>\n",
       "      <td>app</td>\n",
       "      <td>in</td>\n",
       "      <td>recipes</td>\n",
       "      <td>recipe</td>\n",
       "      <td>data</td>\n",
       "      <td>database</td>\n",
       "    </tr>\n",
       "    <tr>\n",
       "      <td>our</td>\n",
       "      <td>is</td>\n",
       "      <td>keyboard</td>\n",
       "      <td>that</td>\n",
       "      <td>be</td>\n",
       "      <td>would</td>\n",
       "      <td>could</td>\n",
       "      <td>one</td>\n",
       "      <td>have</td>\n",
       "      <td>keyboards</td>\n",
       "    </tr>\n",
       "    <tr>\n",
       "      <td>you</td>\n",
       "      <td>data</td>\n",
       "      <td>that</td>\n",
       "      <td>your</td>\n",
       "      <td>is</td>\n",
       "      <td>model</td>\n",
       "      <td>recipes</td>\n",
       "      <td>keyboard</td>\n",
       "      <td>then</td>\n",
       "      <td>recipe</td>\n",
       "    </tr>\n",
       "    <tr>\n",
       "      <td>and</td>\n",
       "      <td>the</td>\n",
       "      <td>we</td>\n",
       "      <td>you</td>\n",
       "      <td>api</td>\n",
       "      <td>will</td>\n",
       "      <td>microsoft</td>\n",
       "      <td>your</td>\n",
       "      <td>app</td>\n",
       "      <td>vision</td>\n",
       "    </tr>\n",
       "    <tr>\n",
       "      <td>data</td>\n",
       "      <td>for</td>\n",
       "      <td>app</td>\n",
       "      <td>predict_</td>\n",
       "      <td>if</td>\n",
       "      <td>is</td>\n",
       "      <td>price</td>\n",
       "      <td>our</td>\n",
       "      <td>amount</td>\n",
       "      <td>it</td>\n",
       "    </tr>\n",
       "    <tr>\n",
       "      <td>in</td>\n",
       "      <td>with</td>\n",
       "      <td>as</td>\n",
       "      <td>if</td>\n",
       "      <td>are</td>\n",
       "      <td>predict_</td>\n",
       "      <td>people</td>\n",
       "      <td>price</td>\n",
       "      <td>amount</td>\n",
       "      <td>you</td>\n",
       "    </tr>\n",
       "  </tbody>\n",
       "</table>"
      ],
      "text/plain": [
       "<IPython.core.display.HTML object>"
      ]
     },
     "metadata": {},
     "output_type": "display_data"
    }
   ],
   "source": [
    "# vectorize the documents\n",
    "count_vectorizer = sklearn.feature_extraction.text.CountVectorizer()\n",
    "td_count_matrix = count_vectorizer.fit_transform(df['description'])\n",
    "svd = SVD(10)\n",
    "svd.fit(td_count_matrix)\n",
    "\n",
    "data = []\n",
    "for i in range(len(svd.components_)):\n",
    "    scores = []\n",
    "    words = []\n",
    "    topk = sorted(zip(svd.components_[i], count_vectorizer.get_feature_names()), reverse=True)[:10]\n",
    "    scores, words = zip(*topk)\n",
    "#     data.append(scores)\n",
    "    data.append(words)\n",
    "    \n",
    "tabulate(data)"
   ]
  },
  {
   "cell_type": "markdown",
   "metadata": {
    "colab_type": "text",
    "id": "v_PuTPd1WmQI"
   },
   "source": [
    "- Those are boring\n",
    "- Why?\n",
    "  - Lots of confounding words!\n",
    "  - Lots of useless co-occurrence data\n",
    "    - it doesn't help me to know that *the* appears often with *application*\n",
    "\n",
    "---\n",
    "\n",
    "    \n",
    "We can solve this!\n",
    "\n",
    "Replace our bag of words with a bag of tricks:\n",
    "- use **tf-idf** instead of basic word counts\n",
    "- remove useless **stop words**"
   ]
  },
  {
   "cell_type": "code",
   "execution_count": 377,
   "metadata": {
    "colab": {},
    "colab_type": "code",
    "id": "t7iCwFgVLWpM"
   },
   "outputs": [],
   "source": [
    "#I manually created this list so it would be easy to add your own as you experiment \n",
    "#In reality you could do something like filter the top N most frequent words (similar to IDF)\n",
    "stop_words = ['the', 'to', 'we', 'and', 'of', 'it', 'in', 'for', 'with', 'is', 'this', 'my', \\\n",
    "              'that', 'our', 'what', 'on', 'as', 'you', 'was']\n",
    "tfidf_vectorizer = sklearn.feature_extraction.text.TfidfVectorizer(stop_words=stop_words) # this has lots of parameters - experiment!\n",
    "# sklearn.feature_extraction.text.TfidfVectorizer?"
   ]
  },
  {
   "cell_type": "code",
   "execution_count": 378,
   "metadata": {
    "colab": {
     "base_uri": "https://localhost:8080/",
     "height": 191
    },
    "colab_type": "code",
    "id": "Md9RIiwC3BaV",
    "outputId": "889900ad-9981-4038-8923-50828fd3443f"
   },
   "outputs": [
    {
     "data": {
      "text/html": [
       "<table border=\"1\" class=\"dataframe\">\n",
       "  <thead>\n",
       "    <tr style=\"text-align: right;\">\n",
       "      <th>0</th>\n",
       "      <th>1</th>\n",
       "      <th>2</th>\n",
       "      <th>3</th>\n",
       "      <th>4</th>\n",
       "      <th>5</th>\n",
       "      <th>6</th>\n",
       "      <th>7</th>\n",
       "      <th>8</th>\n",
       "      <th>9</th>\n",
       "    </tr>\n",
       "  </thead>\n",
       "  <tbody>\n",
       "    <tr>\n",
       "      <td>data</td>\n",
       "      <td>app</td>\n",
       "      <td>application</td>\n",
       "      <td>can</td>\n",
       "      <td>how</td>\n",
       "      <td>an</td>\n",
       "      <td>user</td>\n",
       "      <td>are</td>\n",
       "      <td>be</td>\n",
       "      <td>into</td>\n",
       "    </tr>\n",
       "    <tr>\n",
       "      <td>data</td>\n",
       "      <td>stock</td>\n",
       "      <td>analysis</td>\n",
       "      <td>fraud</td>\n",
       "      <td>sentiment</td>\n",
       "      <td>risk</td>\n",
       "      <td>finra</td>\n",
       "      <td>api</td>\n",
       "      <td>machine</td>\n",
       "      <td>python</td>\n",
       "    </tr>\n",
       "    <tr>\n",
       "      <td>alexa</td>\n",
       "      <td>game</td>\n",
       "      <td>unity</td>\n",
       "      <td>motion</td>\n",
       "      <td>skill</td>\n",
       "      <td>lambda</td>\n",
       "      <td>how</td>\n",
       "      <td>stock</td>\n",
       "      <td>myo</td>\n",
       "      <td>aws</td>\n",
       "    </tr>\n",
       "    <tr>\n",
       "      <td>alexa</td>\n",
       "      <td>skill</td>\n",
       "      <td>lambda</td>\n",
       "      <td>aws</td>\n",
       "      <td>bot</td>\n",
       "      <td>jira</td>\n",
       "      <td>node</td>\n",
       "      <td>voice</td>\n",
       "      <td>js</td>\n",
       "      <td>learnt</td>\n",
       "    </tr>\n",
       "    <tr>\n",
       "      <td>recipe</td>\n",
       "      <td>ingredients</td>\n",
       "      <td>recipes</td>\n",
       "      <td>ncr</td>\n",
       "      <td>end</td>\n",
       "      <td>items</td>\n",
       "      <td>your</td>\n",
       "      <td>ingredient</td>\n",
       "      <td>food</td>\n",
       "      <td>item</td>\n",
       "    </tr>\n",
       "    <tr>\n",
       "      <td>alexa</td>\n",
       "      <td>myo</td>\n",
       "      <td>food</td>\n",
       "      <td>unity</td>\n",
       "      <td>armband</td>\n",
       "      <td>drone</td>\n",
       "      <td>ncr</td>\n",
       "      <td>data</td>\n",
       "      <td>vr</td>\n",
       "      <td>ingredients</td>\n",
       "    </tr>\n",
       "    <tr>\n",
       "      <td>application</td>\n",
       "      <td>notes</td>\n",
       "      <td>will</td>\n",
       "      <td>students</td>\n",
       "      <td>vision</td>\n",
       "      <td>stock</td>\n",
       "      <td>microsoft</td>\n",
       "      <td>text</td>\n",
       "      <td>faces</td>\n",
       "      <td>image</td>\n",
       "    </tr>\n",
       "    <tr>\n",
       "      <td>bot</td>\n",
       "      <td>chatbot</td>\n",
       "      <td>chat</td>\n",
       "      <td>their</td>\n",
       "      <td>microsoft</td>\n",
       "      <td>faces</td>\n",
       "      <td>face</td>\n",
       "      <td>ar</td>\n",
       "      <td>questions</td>\n",
       "      <td>azure</td>\n",
       "    </tr>\n",
       "    <tr>\n",
       "      <td>parking</td>\n",
       "      <td>park</td>\n",
       "      <td>recipe</td>\n",
       "      <td>model</td>\n",
       "      <td>ingredients</td>\n",
       "      <td>bot</td>\n",
       "      <td>recipes</td>\n",
       "      <td>spots</td>\n",
       "      <td>car</td>\n",
       "      <td>parkme</td>\n",
       "    </tr>\n",
       "    <tr>\n",
       "      <td>unity</td>\n",
       "      <td>stock</td>\n",
       "      <td>end</td>\n",
       "      <td>location</td>\n",
       "      <td>api</td>\n",
       "      <td>motion</td>\n",
       "      <td>recipe</td>\n",
       "      <td>reality</td>\n",
       "      <td>virtual</td>\n",
       "      <td>front</td>\n",
       "    </tr>\n",
       "  </tbody>\n",
       "</table>"
      ],
      "text/plain": [
       "<IPython.core.display.HTML object>"
      ]
     },
     "metadata": {},
     "output_type": "display_data"
    }
   ],
   "source": [
    "# vectorize the documents\n",
    "tfidf_matrix = tfidf_vectorizer.fit_transform(df['description'])\n",
    "svd = SVD(10)\n",
    "svd.fit(tfidf_matrix)\n",
    "data = []\n",
    "for i in range(len(svd.components_)):\n",
    "    scores = []\n",
    "    words = []\n",
    "    topk = sorted(zip(svd.components_[i], tfidf_vectorizer.get_feature_names()), reverse=True)[:10]\n",
    "    _, words = zip(*topk)\n",
    "    data.append(words)\n",
    "tabulate(data)"
   ]
  },
  {
   "cell_type": "markdown",
   "metadata": {},
   "source": [
    "## 3 Search\n",
    "\n",
    "- We've shown how to vectorize documents\n",
    "- We've shown that some of these vectors have semantic properties\n"
   ]
  },
  {
   "cell_type": "code",
   "execution_count": 379,
   "metadata": {},
   "outputs": [],
   "source": [
    "import nltk\n",
    "\n",
    "hack_documents = [\n",
    "    \"Use machine learning on text messages to predict when you are hungry.\",\n",
    "    \"Tour college campuses using an oculus rift.\",\n",
    "    \"Use blockchain to keep track of which roommate needs to take out the trash.\"\n",
    "]\n",
    "\n",
    "def tokenize(raw_text, vocab = None):\n",
    "    tokens = []\n",
    "    for sentence in nltk.sent_tokenize(raw_text):\n",
    "        tokens += nltk.word_tokenize(sentence)\n",
    "    tokens = [t.lower() for t in tokens if not vocab or t.lower() in vocab]\n",
    "    return tokens"
   ]
  },
  {
   "cell_type": "code",
   "execution_count": 380,
   "metadata": {},
   "outputs": [
    {
     "name": "stdout",
     "output_type": "stream",
     "text": [
      "[0.0, 0.0, 0.0]\n",
      "['Use blockchain to keep track of which roommate needs to take out the trash.', 'Tour college campuses using an oculus rift.', 'Use machine learning on text messages to predict when you are hungry.']\n",
      "[0.7081789560665279, 0.2911434720132211, -0.12304187931258342]\n",
      "['Tour college campuses using an oculus rift.', 'Use blockchain to keep track of which roommate needs to take out the trash.', 'Use machine learning on text messages to predict when you are hungry.']\n"
     ]
    }
   ],
   "source": [
    "tfidf_vectorizer = sklearn.feature_extraction.text.TfidfVectorizer(stop_words=stop_words)\n",
    "tfidf_matrix = tfidf_vectorizer.fit_transform([' '.join(tokenize(d)) for d in df['description']])\n",
    "svd = SVD(10)\n",
    "svd.fit(tfidf_matrix)\n",
    "\n",
    "def cosine(a, b):\n",
    "    eps = 1e-8\n",
    "    if type(a) is np.ndarray:\n",
    "        return a.dot(b) / ((np.linalg.norm(a) * np.linalg.norm(b)) + eps)\n",
    "    else:\n",
    "        return a.dot(b) / ((a.norm() * b.norm()) + eps)\n",
    "\n",
    "def tfidf_model(query, document):\n",
    "    query_vector = tfidf_vectorizer.transform([' '.join(tokenize(query, tfidf_vectorizer.get_feature_names()))]).todense()\n",
    "    doc_vector = tfidf_vectorizer.transform([' '.join(tokenize(document, tfidf_vectorizer.get_feature_names()))]).todense()\n",
    "    doc_vector = np.squeeze(np.asarray(doc_vector))\n",
    "    query_vector = np.squeeze(np.asarray(query_vector))\n",
    "    return cosine(query_vector, doc_vector)\n",
    "\n",
    "def lsa_model(query, document):\n",
    "    query = ' '.join(tokenize(query, tfidf_vectorizer.get_feature_names()))\n",
    "    document = ' '.join(tokenize(document, tfidf_vectorizer.get_feature_names()))\n",
    "    query_vector = tfidf_vectorizer.transform([query]).todense()\n",
    "    doc_vector = tfidf_vectorizer.transform([document]).todense()\n",
    "    query_vector = svd.transform(query_vector)\n",
    "    doc_vector = svd.transform(doc_vector)\n",
    "    return cosine(np.squeeze(np.asarray(doc_vector)), np.squeeze(np.asarray(query_vector)))\n",
    "    \n",
    "def search(model, query, documents, names = None):\n",
    "    \"\"\"\n",
    "    \"\"\"\n",
    "    scores = [model(query, document) for document in documents]\n",
    "    ixs = list(reversed(np.argsort(scores)[-10:]))\n",
    "    print([scores[i] for i in ixs])\n",
    "    print([documents[i][:150] for i in ixs])\n",
    "    if names is not None:\n",
    "        print([names[i] for i in ixs])\n",
    "    \n",
    "search(tfidf_model, \"virtual reality\", hack_documents)\n",
    "search(lsa_model, \"virtual reality\", hack_documents)"
   ]
  },
  {
   "cell_type": "markdown",
   "metadata": {},
   "source": [
    "Here is a failure case"
   ]
  },
  {
   "cell_type": "code",
   "execution_count": 381,
   "metadata": {},
   "outputs": [
    {
     "name": "stdout",
     "output_type": "stream",
     "text": [
      "[0.0, 0.0, 0.0]\n",
      "['Use blockchain to keep track of which roommate needs to take out the trash.', 'Tour college campuses using an oculus rift.', 'Use machine learning on text messages to predict when you are hungry.']\n",
      "[0.07417157830720489, -0.014738095089920748, -0.2595596221319571]\n",
      "['Tour college campuses using an oculus rift.', 'Use machine learning on text messages to predict when you are hungry.', 'Use blockchain to keep track of which roommate needs to take out the trash.']\n"
     ]
    }
   ],
   "source": [
    "search(tfidf_model, \"university visits\", hack_documents)\n",
    "search(lsa_model, \"university visits\", hack_documents)"
   ]
  },
  {
   "cell_type": "markdown",
   "metadata": {},
   "source": [
    "## 4. Deep Learning"
   ]
  },
  {
   "cell_type": "code",
   "execution_count": 310,
   "metadata": {},
   "outputs": [],
   "source": [
    "import torch, torchtext\n",
    "word2vecin = torchtext.vocab.Vectors('in_pruned.txt', cache = '.')\n",
    "word2vecout = torchtext.vocab.Vectors('out_pruned.txt', cache = '.')"
   ]
  },
  {
   "cell_type": "code",
   "execution_count": 311,
   "metadata": {},
   "outputs": [],
   "source": [
    "def get_doc_vector(tokens, embedding = word2vecout):\n",
    "    q = sum(embedding[t] / embedding[t].norm() for t in tokens) / len(tokens)\n",
    "    return q\n",
    "\n",
    "def desm_model(query, document, embedding = word2vecin):\n",
    "    query_tokens = tokenize(query, vocab=word2vecin.stoi)\n",
    "    doc_tokens = tokenize(document, vocab=word2vecin.stoi)\n",
    "    if len(doc_tokens) == 0:\n",
    "        return -np.inf\n",
    "    doc_vector = get_doc_vector(doc_tokens)\n",
    "    return (sum(cosine(word2vecin[t], doc_vector) for t in query_tokens) / len(query_tokens)).item()"
   ]
  },
  {
   "cell_type": "code",
   "execution_count": 313,
   "metadata": {},
   "outputs": [
    {
     "name": "stdout",
     "output_type": "stream",
     "text": [
      "[-0.03160405904054642, -0.0772206112742424, -0.08321691304445267]\n",
      "['Tour college campuses using an oculus rift.', 'Use machine learning on text messages to predict when you are hungry.', 'Use blockchain to keep track of which roommate needs to take out the trash.']\n"
     ]
    }
   ],
   "source": [
    "search(desm_model, \"virtual reality\", hack_documents)"
   ]
  },
  {
   "cell_type": "code",
   "execution_count": 223,
   "metadata": {},
   "outputs": [
    {
     "name": "stdout",
     "output_type": "stream",
     "text": [
      "[-0.046359557658433914, -0.06493649631738663, -0.06661113351583481]\n",
      "['Use machine learning on text messages to predict when you are hungry.', 'Tour college campuses using an oculus rift.', 'Use blockchain to keep track of which roommate needs to take out the trash.']\n"
     ]
    }
   ],
   "source": [
    "search(desm_model, \"natural language processing\", hack_documents)"
   ]
  },
  {
   "cell_type": "code",
   "execution_count": 224,
   "metadata": {},
   "outputs": [
    {
     "name": "stdout",
     "output_type": "stream",
     "text": [
      "[-0.06931082904338837, -0.06984560191631317, -0.08402836322784424]\n",
      "['Tour college campuses using an oculus rift.', 'Use blockchain to keep track of which roommate needs to take out the trash.', 'Use machine learning on text messages to predict when you are hungry.']\n"
     ]
    }
   ],
   "source": [
    "search(desm_model, \"university visits\", hack_documents)"
   ]
  },
  {
   "cell_type": "markdown",
   "metadata": {},
   "source": [
    "Some more examples, with new dataset. These documents don't have any overlap with the words in the original hackgt 4 devpost dataset, so the tfidf and lsa models won't work. "
   ]
  },
  {
   "cell_type": "code",
   "execution_count": 230,
   "metadata": {},
   "outputs": [
    {
     "name": "stdout",
     "output_type": "stream",
     "text": [
      "[-0.0026541328988969326, -0.008288722485303879, -0.06628800928592682]\n",
      "['Sushi prepared by master chefs with fresh caught local fish.', 'Burgers and smoked meat, served with fries and your choice of sauces.', 'A fruit stand selling fresh produce from local farms.']\n"
     ]
    }
   ],
   "source": [
    "food_documents = [\n",
    "    \"A fruit stand selling fresh produce from local farms.\",\n",
    "    \"Sushi prepared by master chefs with fresh caught local fish.\",\n",
    "    \"Burgers and smoked meat, served with fries and your choice of sauces.\"\n",
    "]\n",
    "\n",
    "search(desm_model, \"tuna\", food_documents)"
   ]
  },
  {
   "cell_type": "code",
   "execution_count": 231,
   "metadata": {},
   "outputs": [
    {
     "name": "stdout",
     "output_type": "stream",
     "text": [
      "[-0.004839772824198008, -0.06945089250802994, -0.08361394703388214]\n",
      "['A fruit stand selling fresh produce from local farms.', 'Burgers and smoked meat, served with fries and your choice of sauces.', 'Sushi prepared by master chefs with fresh caught local fish.']\n"
     ]
    }
   ],
   "source": [
    "search(desm_model, \"apple\", food_documents)"
   ]
  },
  {
   "cell_type": "code",
   "execution_count": 232,
   "metadata": {},
   "outputs": [
    {
     "name": "stdout",
     "output_type": "stream",
     "text": [
      "[0.005773760844022036, -0.05793831869959831, -0.060402628034353256]\n",
      "['Burgers and smoked meat, served with fries and your choice of sauces.', 'Sushi prepared by master chefs with fresh caught local fish.', 'A fruit stand selling fresh produce from local farms.']\n"
     ]
    }
   ],
   "source": [
    "search(desm_model, \"potato\", food_documents)"
   ]
  },
  {
   "cell_type": "markdown",
   "metadata": {},
   "source": [
    "And finally, searching over the full devpost submissions"
   ]
  },
  {
   "cell_type": "code",
   "execution_count": 318,
   "metadata": {
    "scrolled": false
   },
   "outputs": [
    {
     "name": "stdout",
     "output_type": "stream",
     "text": [
      "[-0.046228110790252686, -0.048790693283081055, -0.04903928562998772, -0.05077099800109863, -0.05099250748753548, -0.051693666726350784, -0.05194386839866638, -0.05220391973853111, -0.05234260484576225, -0.052750471979379654]\n",
      "['Voice powered personal assistant software is powerful but limited. We wanted to allow the functionality of such agents, such as Cortana, to be extende', 'Inspiration\\n\\nEasy to use. Free. \\n\\nWhat it does\\n\\nUses machine learning to take in stock data to predict future stock prices and determine whether to ho', \"Inspiration\\n\\nFinra's copious amounts of data.\\n\\nWhat it does\\n\\nDetect firms at potentially high risk for committing fraud. And, tracking people through \", 'Inspiration\\n\\nA lot of schools and colleges are in high demand of note takers for students with certain disabilities and impairment. Therefore, we deci', 'Inspiration\\n\\nCurrent recommendation systems for stores work by logging online transactions, or by recording location timestamps in smart devices. We r', 'Inspiration\\n\\nWe are students who are extremely interested in distributed systems and multi-threaded applications. Whenever we worked on distributed ap', 'Inspiration\\n\\nAs of recent years, noise pollution has evolved to become a serious problem for wildlife, altering the balance of predator/prey detection', 'Inspiration\\n\\nGRE Test Prep\\n\\nWhat it does\\n\\nSearching books for me\\n\\nHow we built it\\n\\nUsing python and Azure mySQL\\n\\nChallenges we ran into\\n\\nnltk weakness', 'Inspiration\\n\\nLove for integrating software and sensors to execute projects that create assistive technology or result in social good.\\n\\nWhat it does\\n\\nA', 'Inspiration\\n\\nProblems involving fraud in finance\\n\\nWhat it does\\n\\nDetects possible penny stock fraud on live twitter sentiment analysis and machine lear']\n",
      "['Cortana Skill Learner', 'InvestFolio', 'Data Mines', 'Automated Note Generator', 'HoleInMyWallet', 'Gridy', 'Synesthesia', 'Book Match: Vocabing', 'KinectEd Living', 'Penny Stock Fraud Detection']\n"
     ]
    }
   ],
   "source": [
    "search(desm_model, \"natural language processing\", df.description.values, df.submission.values)"
   ]
  },
  {
   "cell_type": "code",
   "execution_count": 382,
   "metadata": {},
   "outputs": [],
   "source": [
    "poly = torchtext.vocab.Vectors('poly.txt', cache='.')"
   ]
  },
  {
   "cell_type": "code",
   "execution_count": 383,
   "metadata": {},
   "outputs": [
    {
     "data": {
      "text/plain": [
       "101209"
      ]
     },
     "execution_count": 383,
     "metadata": {},
     "output_type": "execute_result"
    }
   ],
   "source": [
    "counts = Counter()\n",
    "for doc in df.description:\n",
    "    counts.update(tokenize(doc))\n",
    "    \n",
    "for doc in hack_documents:\n",
    "    counts.update(tokenize(doc))\n",
    "    \n",
    "for doc in food_documents:\n",
    "    counts.update(tokenize(doc))\n",
    "\n",
    "\n",
    "v = set(counts.keys()) | set(poly.stoi.keys())\n",
    "len(v)"
   ]
  },
  {
   "cell_type": "code",
   "execution_count": 384,
   "metadata": {},
   "outputs": [],
   "source": [
    "lines_of_interest = []\n",
    "with open('out_pruned.txt', 'r') as f:\n",
    "    for line in f:\n",
    "        word = line.split(' ')[0].strip()\n",
    "        if word in v:\n",
    "            lines_of_interest.append(line)\n",
    "            \n",
    "with open('out_pruned_lite.txt', 'w') as f:\n",
    "    for line in lines_of_interest:\n",
    "        f.write(line)"
   ]
  },
  {
   "cell_type": "code",
   "execution_count": null,
   "metadata": {},
   "outputs": [],
   "source": []
  }
 ],
 "metadata": {
  "colab": {
   "collapsed_sections": [],
   "name": "HackGT NLP Workshop",
   "provenance": [],
   "version": "0.3.2"
  },
  "kernelspec": {
   "display_name": "Python 3",
   "language": "python",
   "name": "python3"
  },
  "language_info": {
   "codemirror_mode": {
    "name": "ipython",
    "version": 3
   },
   "file_extension": ".py",
   "mimetype": "text/x-python",
   "name": "python",
   "nbconvert_exporter": "python",
   "pygments_lexer": "ipython3",
   "version": "3.6.5"
  }
 },
 "nbformat": 4,
 "nbformat_minor": 1
}
